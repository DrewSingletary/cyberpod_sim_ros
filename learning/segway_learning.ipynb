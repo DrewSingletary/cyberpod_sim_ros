{
 "cells": [
  {
   "cell_type": "markdown",
   "metadata": {},
   "source": [
    "## Segway Learning CBF Script"
   ]
  },
  {
   "cell_type": "code",
   "execution_count": null,
   "metadata": {
    "code_folding": [
     0
    ]
   },
   "outputs": [],
   "source": [
    "# Imports\n",
    "\n",
    "# Data Processing\n",
    "from numpy import array, concatenate, dot, genfromtxt, savetxt, shape\n",
    "from numpy.random import permutation\n",
    "\n",
    "# Learning\n",
    "from tensorflow.logging import ERROR, set_verbosity\n",
    "set_verbosity(ERROR)\n",
    "from keras import Model, Sequential\n",
    "from keras.layers import Add, Dense, Dot, Input, Reshape\n",
    "\n",
    "# Plotting\n",
    "from matplotlib.pyplot import cla, clf, figure, grid, legend, plot, savefig, show, subplot, title, xlabel, ylabel\n"
   ]
  },
  {
   "cell_type": "code",
   "execution_count": null,
   "metadata": {
    "code_folding": []
   },
   "outputs": [],
   "source": [
    "# Load Data\n",
    "\n",
    "# Data will be read in from a .csv file containing data from all episodes concatenated, and stored as a numpy array\n",
    "# Each line of data will consist of (x, v, psi, psi_dot, dh_dx, dh_dv, dh_dpsi, dh_dpsidot, u, hdot_r)\n",
    "\n",
    "# Read from .csv file\n",
    "data = genfromtxt('./simulation/learning_data.csv', delimiter=',')\n",
    "\n",
    "# Split data\n",
    "model_input_data = data[:, 0:8]\n",
    "control_data = data[:, 8]\n",
    "h_r_data = data[:, 9]"
   ]
  },
  {
   "cell_type": "code",
   "execution_count": null,
   "metadata": {
    "code_folding": []
   },
   "outputs": [],
   "source": [
    "# Configure Model\n",
    "\n",
    "# Model parameters\n",
    "d_drift_in = 8 # dimension of drift model input\n",
    "d_act_in = 8 # dimension of actuation model input\n",
    "d_hidden= 30 # number of nodes in hidden layer\n",
    "d_hidden_2 = 30 # number of nodes in second hidden layer\n",
    "d_out = 1 # dimension of combined model output\n",
    "m = 1 # dimension of control inputs\n",
    "\n",
    "# Training Parameters\n",
    "optimizer = 'adam'\n",
    "loss = 'mean_absolute_error'\n",
    "batch_size = 1\n",
    "num_epochs = 10\n",
    "validation_split = 0.1\n",
    "\n",
    "# Drift Model\n",
    "drift_model = Sequential() # Model structure\n",
    "drift_model.add(Dense(d_hidden, input_shape=(d_drift_in,), activation='relu')) # Hidden layer\n",
    "drift_model.add(Dense(d_hidden_2, activation='relu')) # Hidden layer 2\n",
    "drift_model.add(Dense(d_out)) # Output layer\n",
    "drift_inputs = Input((d_drift_in,)) # Define input to model\n",
    "drift_residuals = drift_model(drift_inputs) # Define input to \n",
    "\n",
    "# Actuation Model\n",
    "act_model = Sequential()\n",
    "act_model.add(Dense(d_hidden, input_shape=(d_act_in,), activation='relu'))\n",
    "act_model.add(Dense(d_hidden_2 , activation='relu'))\n",
    "act_model.add(Dense(d_out * m))\n",
    "act_model.add(Reshape((d_out, m)))\n",
    "act_inputs = Input((d_act_in,))\n",
    "act_residuals = act_model(act_inputs)\n",
    "\n",
    "us = Input((m,))\n",
    "\n",
    "residuals = Add()([drift_residuals, Dot([2, 1])([act_residuals, us])])\n",
    "model = Model([drift_inputs, act_inputs, us], residuals)\n",
    "model.compile(optimizer, loss)\n"
   ]
  },
  {
   "cell_type": "code",
   "execution_count": null,
   "metadata": {
    "code_folding": [
     0
    ]
   },
   "outputs": [],
   "source": [
    "# Shuffle Data\n",
    "\n",
    "perm = permutation(len(h_r_data)) # permutation order\n",
    "\n",
    "model_input_data_perm = model_input_data[perm]\n",
    "control_data_perm = control_data[perm]\n",
    "h_r_data_perm = h_r_data[perm]"
   ]
  },
  {
   "cell_type": "code",
   "execution_count": null,
   "metadata": {
    "code_folding": [
     0
    ],
    "scrolled": true
   },
   "outputs": [],
   "source": [
    "# Train Model\n",
    "\n",
    "model.fit([model_input_data_perm, model_input_data_perm, control_data_perm], \n",
    "          h_r_data_perm, batch_size = batch_size, epochs = num_epochs, validation_split = validation_split)"
   ]
  },
  {
   "cell_type": "code",
   "execution_count": null,
   "metadata": {
    "code_folding": [
     0
    ],
    "scrolled": true
   },
   "outputs": [],
   "source": [
    "# Evaluate Model\n",
    "\n",
    "drift_predictions = drift_model.predict(model_input_data)\n",
    "act_predictions = act_model.predict(model_input_data)\n",
    "h_r_predictions = array([dp + dot(ap, [cd]) for dp, ap, cd, in zip(drift_predictions, act_predictions, control_data)])\n",
    "\n",
    "figure(figsize=(8, 8))\n",
    "cla()\n",
    "plot(h_r_predictions, 'g', linewidth=3, label='Predictions')\n",
    "plot(h_r_data, 'r', linewidth=3, label='True')\n",
    "grid()\n",
    "xlabel('Index (#)', fontsize=16)\n",
    "ylabel('$h_r$', fontsize=16)\n",
    "legend(fontsize = 16)\n",
    "show()"
   ]
  },
  {
   "cell_type": "code",
   "execution_count": null,
   "metadata": {
    "code_folding": [
     0
    ]
   },
   "outputs": [],
   "source": [
    "# # Extract 2 Layer Model Parameters & Save\n",
    "\n",
    "# # Layers are stored in *_model.layers, use get_weights() to pull out parameters indexed by layer\n",
    "# # Divide parameter sets by layers and model\n",
    "# drift_l1_params = drift_model.layers[0].get_weights()\n",
    "# drift_l2_params = drift_model.layers[1].get_weights()\n",
    "# act_l1_params = act_model.layers[0].get_weights()\n",
    "# act_l2_params = act_model.layers[1].get_weights()\n",
    "\n",
    "# # Extract drift weights and bias.\n",
    "# drift_w_1 = drift_l1_params[0].T\n",
    "# drift_b_1 = drift_l1_params[1].T\n",
    "# drift_w_2 = drift_l2_params[0].T\n",
    "# drift_b_2 = drift_l2_params[1].T\n",
    "\n",
    "# # Extract actuation weights and bias.\n",
    "# act_w_1 = act_l1_params[0].T\n",
    "# act_b_1 = act_l1_params[1].T\n",
    "# act_w_2 = act_l2_params[0].T\n",
    "# act_b_2 = act_l2_params[1].T\n",
    "\n",
    "# savetxt(\"../network_parameters/drift_w_1.csv\", drift_w_1, delimiter=\",\")\n",
    "# savetxt(\"../network_parameters/drift_b_1.csv\", drift_b_1, delimiter=\",\")\n",
    "# savetxt(\"../network_parameters/drift_w_2.csv\", drift_w_2, delimiter=\",\")\n",
    "# savetxt(\"../network_parameters/drift_b_2.csv\", drift_b_2, delimiter=\",\")\n",
    "# savetxt(\"../network_parameters/act_w_1.csv\", act_w_1, delimiter=\",\")\n",
    "# savetxt(\"../network_parameters/act_b_1.csv\", act_b_1, delimiter=\",\")\n",
    "# savetxt(\"../network_parameters/act_w_2.csv\", act_w_2, delimiter=\",\")\n",
    "# savetxt(\"../network_parameters/act_b_2.csv\", act_b_2, delimiter=\",\")\n"
   ]
  },
  {
   "cell_type": "code",
   "execution_count": null,
   "metadata": {
    "code_folding": [
     0
    ]
   },
   "outputs": [],
   "source": [
    "# Extract 3 Layer Model Parameters & Save\n",
    "\n",
    "# Layers are stored in *_model.layers, use get_weights() to pull out parameters indexed by layer\n",
    "# Divide parameter sets by layers and model\n",
    "drift_l1_params = drift_model.layers[0].get_weights()\n",
    "drift_l2_params = drift_model.layers[1].get_weights()\n",
    "drift_l3_params = drift_model.layers[2].get_weights()\n",
    "act_l1_params = act_model.layers[0].get_weights()\n",
    "act_l2_params = act_model.layers[1].get_weights()\n",
    "act_l3_params = act_model.layers[2].get_weights()\n",
    "\n",
    "# Extract drift weights and bias.\n",
    "drift_w_1 = drift_l1_params[0].T\n",
    "drift_b_1 = drift_l1_params[1].T\n",
    "drift_w_2 = drift_l2_params[0].T\n",
    "drift_b_2 = drift_l2_params[1].T\n",
    "drift_w_3 = drift_l3_params[0].T\n",
    "drift_b_3 = drift_l3_params[1].T\n",
    "\n",
    "# Extract actuation weights and bias.\n",
    "act_w_1 = act_l1_params[0].T\n",
    "act_b_1 = act_l1_params[1].T\n",
    "act_w_2 = act_l2_params[0].T\n",
    "act_b_2 = act_l2_params[1].T\n",
    "act_w_3 = act_l3_params[0].T\n",
    "act_b_3 = act_l3_params[1].T\n",
    "\n",
    "savetxt(\"./simulation/network_parameters/drift_w_1.csv\", drift_w_1, delimiter=\",\")\n",
    "savetxt(\"./simulation/network_parameters/drift_b_1.csv\", drift_b_1, delimiter=\",\")\n",
    "savetxt(\"./simulation/network_parameters/drift_w_2.csv\", drift_w_2, delimiter=\",\")\n",
    "savetxt(\"./simulation/network_parameters/drift_b_2.csv\", drift_b_2, delimiter=\",\")\n",
    "savetxt(\"./simulation/network_parameters/drift_w_3.csv\", drift_w_3, delimiter=\",\")\n",
    "savetxt(\"./simulation/network_parameters/drift_b_3.csv\", drift_b_3, delimiter=\",\")\n",
    "savetxt(\"./simulation/network_parameters/act_w_1.csv\", act_w_1, delimiter=\",\")\n",
    "savetxt(\"./simulation/network_parameters/act_b_1.csv\", act_b_1, delimiter=\",\")\n",
    "savetxt(\"./simulation/network_parameters/act_w_2.csv\", act_w_2, delimiter=\",\")\n",
    "savetxt(\"./simulation/network_parameters/act_b_2.csv\", act_b_2, delimiter=\",\")\n",
    "savetxt(\"./simulation/network_parameters/act_w_3.csv\", act_w_3, delimiter=\",\")\n",
    "savetxt(\"./simulation/network_parameters/act_b_3.csv\", act_b_3, delimiter=\",\")"
   ]
  },
  {
   "cell_type": "code",
   "execution_count": null,
   "metadata": {},
   "outputs": [],
   "source": [
    "print(drift_w_1)"
   ]
  }
 ],
 "metadata": {
  "kernelspec": {
   "display_name": "Python 2",
   "language": "python",
   "name": "python2"
  },
  "language_info": {
   "codemirror_mode": {
    "name": "ipython",
    "version": 2
   },
   "file_extension": ".py",
   "mimetype": "text/x-python",
   "name": "python",
   "nbconvert_exporter": "python",
   "pygments_lexer": "ipython2",
   "version": "2.7.17"
  }
 },
 "nbformat": 4,
 "nbformat_minor": 2
}
